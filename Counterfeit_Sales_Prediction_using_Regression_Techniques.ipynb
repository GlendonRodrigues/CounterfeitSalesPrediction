{
 "cells": [
  {
   "cell_type": "code",
   "execution_count": 0,
   "metadata": {
    "colab": {},
    "colab_type": "code",
    "id": "TDaJJ7_YB87x"
   },
   "outputs": [],
   "source": [
    "#Import libraries\n",
    "\n",
    "import pandas as pd\n",
    "import numpy as np\n",
    "from sklearn.model_selection import train_test_split\n",
    "from sklearn.preprocessing import OneHotEncoder\n",
    "from sklearn.preprocessing import LabelEncoder\n",
    "from sklearn.linear_model import LinearRegression\n",
    "from sklearn.ensemble import RandomForestRegressor\n",
    "from sklearn.metrics import mean_absolute_error"
   ]
  },
  {
   "cell_type": "code",
   "execution_count": 0,
   "metadata": {
    "colab": {},
    "colab_type": "code",
    "id": "xvNikNhJkBLq"
   },
   "outputs": [],
   "source": [
    "#Import the dataset\n",
    "\n",
    "train_data = pd.read_csv(r'/content/sample_data/counterfeit_train.csv')\n",
    "test_data = pd.read_csv(r'/content/sample_data/counterfeit_test.csv')"
   ]
  },
  {
   "cell_type": "code",
   "execution_count": 3,
   "metadata": {
    "colab": {
     "base_uri": "https://localhost:8080/",
     "height": 34
    },
    "colab_type": "code",
    "id": "wVgtp4hMCnRr",
    "outputId": "03602cda-3d02-4611-b202-39f2d869be3b"
   },
   "outputs": [
    {
     "name": "stdout",
     "output_type": "stream",
     "text": [
      "(6818, 12) (1705, 11)\n"
     ]
    }
   ],
   "source": [
    "print(train_data.shape, test_data.shape)"
   ]
  },
  {
   "cell_type": "code",
   "execution_count": 0,
   "metadata": {
    "colab": {},
    "colab_type": "code",
    "id": "YwFjXMOrs15M"
   },
   "outputs": [],
   "source": [
    "test_data['Counterfeit_Sales'] = np.nan\n",
    "train_data['data'] = 'train'\n",
    "test_data['data'] = 'test'\n",
    "test_data = test_data[train_data.columns]\n",
    "data_all = pd.concat([test_data, train_data], axis = 0)"
   ]
  },
  {
   "cell_type": "code",
   "execution_count": 5,
   "metadata": {
    "colab": {
     "base_uri": "https://localhost:8080/",
     "height": 34
    },
    "colab_type": "code",
    "id": "sa5uQyQNGiuW",
    "outputId": "4d2af59c-a147-4bf9-90e5-3dc6c14c8b9e"
   },
   "outputs": [
    {
     "name": "stdout",
     "output_type": "stream",
     "text": [
      "['Counterfeit_Weight', 'Counterfeit_Sales']\n"
     ]
    }
   ],
   "source": [
    "#Check for any columns with missing values\n",
    "\n",
    "cols_with_missing = [cols for cols in data_all.columns \n",
    "                     if data_all[cols].isnull().any()]\n",
    "print(cols_with_missing)"
   ]
  },
  {
   "cell_type": "code",
   "execution_count": 0,
   "metadata": {
    "colab": {},
    "colab_type": "code",
    "id": "oOvhmNK0xHcH"
   },
   "outputs": [],
   "source": [
    "#Replace the missing values with mean\n",
    "\n",
    "data_all.loc[data_all['Counterfeit_Weight'].isnull(),'Counterfeit_Weight'] = data_all['Counterfeit_Weight'].mean()\n"
   ]
  },
  {
   "cell_type": "code",
   "execution_count": 0,
   "metadata": {
    "colab": {},
    "colab_type": "code",
    "id": "AjFsfjJhzbLn"
   },
   "outputs": [],
   "source": [
    "#Drop redundant columns from the dataset\n",
    "\n",
    "data_all.drop(['Medicine_ID', 'Active_Since'], inplace=True, axis = 1)"
   ]
  },
  {
   "cell_type": "code",
   "execution_count": 8,
   "metadata": {
    "colab": {
     "base_uri": "https://localhost:8080/",
     "height": 221
    },
    "colab_type": "code",
    "id": "GSilpPtPa-Eo",
    "outputId": "eea63b28-d95b-42d0-f0c3-61be2f8521b3"
   },
   "outputs": [
    {
     "data": {
      "text/plain": [
       "Counterfeit_Weight      416\n",
       "DistArea_ID              10\n",
       "Medicine_MRP           5970\n",
       "Medicine_Type            16\n",
       "SidEffect_Level           2\n",
       "Availability_rating    7884\n",
       "Area_Type                 4\n",
       "Area_City_Type            3\n",
       "Area_dist_level           4\n",
       "Counterfeit_Sales      3142\n",
       "data                      2\n",
       "dtype: int64"
      ]
     },
     "execution_count": 8,
     "metadata": {
      "tags": []
     },
     "output_type": "execute_result"
    }
   ],
   "source": [
    "data_all.nunique()"
   ]
  },
  {
   "cell_type": "code",
   "execution_count": 9,
   "metadata": {
    "colab": {
     "base_uri": "https://localhost:8080/",
     "height": 34
    },
    "colab_type": "code",
    "id": "KOgsBM-tcjZx",
    "outputId": "e62a610a-23d5-490f-c996-861963bbb39b"
   },
   "outputs": [
    {
     "name": "stdout",
     "output_type": "stream",
     "text": [
      "['DistArea_ID', 'Medicine_Type', 'SidEffect_Level', 'Area_Type', 'Area_City_Type', 'Area_dist_level', 'data']\n"
     ]
    }
   ],
   "source": [
    "#Get list of categorical variables for Encoding\n",
    "\n",
    "cols_objs = [cols for cols in data_all.columns if data_all[cols].dtype == 'object']\n",
    "print(cols_objs)"
   ]
  },
  {
   "cell_type": "code",
   "execution_count": 10,
   "metadata": {
    "colab": {
     "base_uri": "https://localhost:8080/",
     "height": 379
    },
    "colab_type": "code",
    "id": "Yskmjc7FbSlP",
    "outputId": "549257a1-1032-4502-fec7-5ba6bb52444a"
   },
   "outputs": [
    {
     "data": {
      "text/html": [
       "<div>\n",
       "<style scoped>\n",
       "    .dataframe tbody tr th:only-of-type {\n",
       "        vertical-align: middle;\n",
       "    }\n",
       "\n",
       "    .dataframe tbody tr th {\n",
       "        vertical-align: top;\n",
       "    }\n",
       "\n",
       "    .dataframe thead th {\n",
       "        text-align: right;\n",
       "    }\n",
       "</style>\n",
       "<table border=\"1\" class=\"dataframe\">\n",
       "  <thead>\n",
       "    <tr style=\"text-align: right;\">\n",
       "      <th></th>\n",
       "      <th>Counterfeit_Weight</th>\n",
       "      <th>DistArea_ID</th>\n",
       "      <th>Medicine_MRP</th>\n",
       "      <th>Medicine_Type</th>\n",
       "      <th>SidEffect_Level</th>\n",
       "      <th>Availability_rating</th>\n",
       "      <th>Area_Type</th>\n",
       "      <th>Area_City_Type</th>\n",
       "      <th>Area_dist_level</th>\n",
       "      <th>Counterfeit_Sales</th>\n",
       "      <th>data</th>\n",
       "    </tr>\n",
       "  </thead>\n",
       "  <tbody>\n",
       "    <tr>\n",
       "      <th>0</th>\n",
       "      <td>14.157645</td>\n",
       "      <td>Area027</td>\n",
       "      <td>85.5328</td>\n",
       "      <td>Antibiotics</td>\n",
       "      <td>mild</td>\n",
       "      <td>0.112747</td>\n",
       "      <td>CityLimits</td>\n",
       "      <td>Tier 3</td>\n",
       "      <td>Medium</td>\n",
       "      <td>NaN</td>\n",
       "      <td>test</td>\n",
       "    </tr>\n",
       "    <tr>\n",
       "      <th>1</th>\n",
       "      <td>13.450000</td>\n",
       "      <td>Area045</td>\n",
       "      <td>257.1460</td>\n",
       "      <td>OralContraceptives</td>\n",
       "      <td>mild</td>\n",
       "      <td>0.144446</td>\n",
       "      <td>DownTown</td>\n",
       "      <td>Tier 2</td>\n",
       "      <td>Unknown</td>\n",
       "      <td>NaN</td>\n",
       "      <td>test</td>\n",
       "    </tr>\n",
       "    <tr>\n",
       "      <th>2</th>\n",
       "      <td>7.100000</td>\n",
       "      <td>Area045</td>\n",
       "      <td>98.1172</td>\n",
       "      <td>Antipyretics</td>\n",
       "      <td>mild</td>\n",
       "      <td>0.144221</td>\n",
       "      <td>DownTown</td>\n",
       "      <td>Tier 2</td>\n",
       "      <td>Unknown</td>\n",
       "      <td>NaN</td>\n",
       "      <td>test</td>\n",
       "    </tr>\n",
       "    <tr>\n",
       "      <th>3</th>\n",
       "      <td>18.300000</td>\n",
       "      <td>Area010</td>\n",
       "      <td>135.3730</td>\n",
       "      <td>Tranquilizers</td>\n",
       "      <td>mild</td>\n",
       "      <td>0.100388</td>\n",
       "      <td>MidTownResidential</td>\n",
       "      <td>Tier 3</td>\n",
       "      <td>Unknown</td>\n",
       "      <td>NaN</td>\n",
       "      <td>test</td>\n",
       "    </tr>\n",
       "    <tr>\n",
       "      <th>4</th>\n",
       "      <td>14.157645</td>\n",
       "      <td>Area019</td>\n",
       "      <td>112.8016</td>\n",
       "      <td>OralContraceptives</td>\n",
       "      <td>mild</td>\n",
       "      <td>0.022585</td>\n",
       "      <td>MidTownResidential</td>\n",
       "      <td>Tier 1</td>\n",
       "      <td>Small</td>\n",
       "      <td>NaN</td>\n",
       "      <td>test</td>\n",
       "    </tr>\n",
       "    <tr>\n",
       "      <th>5</th>\n",
       "      <td>14.450000</td>\n",
       "      <td>Area010</td>\n",
       "      <td>190.2976</td>\n",
       "      <td>OralContraceptives</td>\n",
       "      <td>mild</td>\n",
       "      <td>0.074382</td>\n",
       "      <td>MidTownResidential</td>\n",
       "      <td>Tier 3</td>\n",
       "      <td>Unknown</td>\n",
       "      <td>NaN</td>\n",
       "      <td>test</td>\n",
       "    </tr>\n",
       "    <tr>\n",
       "      <th>6</th>\n",
       "      <td>14.157645</td>\n",
       "      <td>Area027</td>\n",
       "      <td>163.3656</td>\n",
       "      <td>OralContraceptives</td>\n",
       "      <td>critical</td>\n",
       "      <td>0.073134</td>\n",
       "      <td>CityLimits</td>\n",
       "      <td>Tier 3</td>\n",
       "      <td>Medium</td>\n",
       "      <td>NaN</td>\n",
       "      <td>test</td>\n",
       "    </tr>\n",
       "    <tr>\n",
       "      <th>7</th>\n",
       "      <td>17.150000</td>\n",
       "      <td>Area046</td>\n",
       "      <td>226.9166</td>\n",
       "      <td>Antacids</td>\n",
       "      <td>mild</td>\n",
       "      <td>0.082101</td>\n",
       "      <td>DownTown</td>\n",
       "      <td>Tier 1</td>\n",
       "      <td>Small</td>\n",
       "      <td>NaN</td>\n",
       "      <td>test</td>\n",
       "    </tr>\n",
       "    <tr>\n",
       "      <th>8</th>\n",
       "      <td>14.157645</td>\n",
       "      <td>Area027</td>\n",
       "      <td>225.0534</td>\n",
       "      <td>OralContraceptives</td>\n",
       "      <td>mild</td>\n",
       "      <td>0.094614</td>\n",
       "      <td>CityLimits</td>\n",
       "      <td>Tier 3</td>\n",
       "      <td>Medium</td>\n",
       "      <td>NaN</td>\n",
       "      <td>test</td>\n",
       "    </tr>\n",
       "    <tr>\n",
       "      <th>9</th>\n",
       "      <td>15.100000</td>\n",
       "      <td>Area045</td>\n",
       "      <td>101.0172</td>\n",
       "      <td>Cardiac</td>\n",
       "      <td>critical</td>\n",
       "      <td>0.027763</td>\n",
       "      <td>DownTown</td>\n",
       "      <td>Tier 2</td>\n",
       "      <td>Unknown</td>\n",
       "      <td>NaN</td>\n",
       "      <td>test</td>\n",
       "    </tr>\n",
       "  </tbody>\n",
       "</table>\n",
       "</div>"
      ],
      "text/plain": [
       "   Counterfeit_Weight DistArea_ID  ...  Counterfeit_Sales  data\n",
       "0           14.157645     Area027  ...                NaN  test\n",
       "1           13.450000     Area045  ...                NaN  test\n",
       "2            7.100000     Area045  ...                NaN  test\n",
       "3           18.300000     Area010  ...                NaN  test\n",
       "4           14.157645     Area019  ...                NaN  test\n",
       "5           14.450000     Area010  ...                NaN  test\n",
       "6           14.157645     Area027  ...                NaN  test\n",
       "7           17.150000     Area046  ...                NaN  test\n",
       "8           14.157645     Area027  ...                NaN  test\n",
       "9           15.100000     Area045  ...                NaN  test\n",
       "\n",
       "[10 rows x 11 columns]"
      ]
     },
     "execution_count": 10,
     "metadata": {
      "tags": []
     },
     "output_type": "execute_result"
    }
   ],
   "source": [
    "data_all.head(10)"
   ]
  },
  {
   "cell_type": "code",
   "execution_count": 0,
   "metadata": {
    "colab": {},
    "colab_type": "code",
    "id": "l6V6MAFOgc1k"
   },
   "outputs": [],
   "source": [
    "#Label encoding(Ordinal values) : SidEffect_Level,Area_City_Type, Area_dist_level\n",
    "#One-hot encoding(Nominal values) : DistArea_ID, Mediciine_Type,Area_Type\n",
    "\n",
    "label_X_train_cols = ['SidEffect_Level','Area_City_Type', 'Area_dist_level']\n",
    "OH_X_train_cols = ['DistArea_ID', 'Medicine_Type', 'Area_Type']"
   ]
  },
  {
   "cell_type": "code",
   "execution_count": 0,
   "metadata": {
    "colab": {},
    "colab_type": "code",
    "id": "89SD3LE7kBNA"
   },
   "outputs": [],
   "source": [
    "#Apply Label Encoder to categorical columns containing ordinal values\n",
    "\n",
    "label_X_train = data_all[label_X_train_cols]\n",
    "\n",
    "\n",
    "labl_encoder = LabelEncoder()\n",
    "\n",
    "for col in label_X_train_cols:\n",
    "  label_X_train[col] = labl_encoder.fit_transform(label_X_train[col])\n",
    "  "
   ]
  },
  {
   "cell_type": "code",
   "execution_count": 13,
   "metadata": {
    "colab": {
     "base_uri": "https://localhost:8080/",
     "height": 204
    },
    "colab_type": "code",
    "id": "luIvU8N1jS1R",
    "outputId": "e95ab8df-710b-401d-9faa-68bd535dab45"
   },
   "outputs": [
    {
     "data": {
      "text/html": [
       "<div>\n",
       "<style scoped>\n",
       "    .dataframe tbody tr th:only-of-type {\n",
       "        vertical-align: middle;\n",
       "    }\n",
       "\n",
       "    .dataframe tbody tr th {\n",
       "        vertical-align: top;\n",
       "    }\n",
       "\n",
       "    .dataframe thead th {\n",
       "        text-align: right;\n",
       "    }\n",
       "</style>\n",
       "<table border=\"1\" class=\"dataframe\">\n",
       "  <thead>\n",
       "    <tr style=\"text-align: right;\">\n",
       "      <th></th>\n",
       "      <th>SidEffect_Level</th>\n",
       "      <th>Area_City_Type</th>\n",
       "      <th>Area_dist_level</th>\n",
       "    </tr>\n",
       "  </thead>\n",
       "  <tbody>\n",
       "    <tr>\n",
       "      <th>0</th>\n",
       "      <td>1</td>\n",
       "      <td>2</td>\n",
       "      <td>1</td>\n",
       "    </tr>\n",
       "    <tr>\n",
       "      <th>1</th>\n",
       "      <td>1</td>\n",
       "      <td>1</td>\n",
       "      <td>3</td>\n",
       "    </tr>\n",
       "    <tr>\n",
       "      <th>2</th>\n",
       "      <td>1</td>\n",
       "      <td>1</td>\n",
       "      <td>3</td>\n",
       "    </tr>\n",
       "    <tr>\n",
       "      <th>3</th>\n",
       "      <td>1</td>\n",
       "      <td>2</td>\n",
       "      <td>3</td>\n",
       "    </tr>\n",
       "    <tr>\n",
       "      <th>4</th>\n",
       "      <td>1</td>\n",
       "      <td>0</td>\n",
       "      <td>2</td>\n",
       "    </tr>\n",
       "  </tbody>\n",
       "</table>\n",
       "</div>"
      ],
      "text/plain": [
       "   SidEffect_Level  Area_City_Type  Area_dist_level\n",
       "0                1               2                1\n",
       "1                1               1                3\n",
       "2                1               1                3\n",
       "3                1               2                3\n",
       "4                1               0                2"
      ]
     },
     "execution_count": 13,
     "metadata": {
      "tags": []
     },
     "output_type": "execute_result"
    }
   ],
   "source": [
    "label_X_train.head()"
   ]
  },
  {
   "cell_type": "code",
   "execution_count": 0,
   "metadata": {
    "colab": {},
    "colab_type": "code",
    "id": "ETeYvQ7FjfDX"
   },
   "outputs": [],
   "source": [
    "#Apply One-Hot Encoder to categorical columns containing nominal values\n",
    "OH_Encoder = OneHotEncoder(handle_unknown='ignore', sparse=False)\n",
    "\n",
    "OH_X_train = pd.DataFrame(OH_Encoder.fit_transform(data_all[OH_X_train_cols]))\n",
    "\n",
    "OH_X_train.index = data_all.index\n"
   ]
  },
  {
   "cell_type": "code",
   "execution_count": 0,
   "metadata": {
    "colab": {},
    "colab_type": "code",
    "id": "1x7sAe7jmEIx"
   },
   "outputs": [],
   "source": [
    "#Removing categorical variables(to be replaced with one-hot and label encoded variables)\n",
    "\n",
    "data_all.drop(OH_X_train_cols, axis=1, inplace = True)\n",
    "\n",
    "data_all.drop(label_X_train_cols, axis=1, inplace=True)\n"
   ]
  },
  {
   "cell_type": "code",
   "execution_count": 16,
   "metadata": {
    "colab": {
     "base_uri": "https://localhost:8080/",
     "height": 34
    },
    "colab_type": "code",
    "id": "_ZwXayXDof4b",
    "outputId": "588dcbc1-109f-490f-c2c1-54decadcf0e1"
   },
   "outputs": [
    {
     "data": {
      "text/plain": [
       "(8523, 5)"
      ]
     },
     "execution_count": 16,
     "metadata": {
      "tags": []
     },
     "output_type": "execute_result"
    }
   ],
   "source": [
    "data_all.shape"
   ]
  },
  {
   "cell_type": "code",
   "execution_count": 0,
   "metadata": {
    "colab": {},
    "colab_type": "code",
    "id": "AFpV_BUfood4"
   },
   "outputs": [],
   "source": [
    "data_all = pd.concat([data_all,label_X_train,OH_X_train], axis = 1)"
   ]
  },
  {
   "cell_type": "code",
   "execution_count": 18,
   "metadata": {
    "colab": {
     "base_uri": "https://localhost:8080/",
     "height": 34
    },
    "colab_type": "code",
    "id": "MTZKAYPQoxus",
    "outputId": "60ccdfb8-8736-49e7-e013-6a394d3978f5"
   },
   "outputs": [
    {
     "data": {
      "text/plain": [
       "(8523, 38)"
      ]
     },
     "execution_count": 18,
     "metadata": {
      "tags": []
     },
     "output_type": "execute_result"
    }
   ],
   "source": [
    "data_all.shape"
   ]
  },
  {
   "cell_type": "code",
   "execution_count": 0,
   "metadata": {
    "colab": {},
    "colab_type": "code",
    "id": "4Ps2u05vwKzG"
   },
   "outputs": [],
   "source": [
    "train_data = data_all[data_all['data']=='train']\n",
    "del train_data['data']\n",
    "test_data = data_all[data_all['data']=='test']\n",
    "test_data.drop(['Counterfeit_Sales', 'data'], axis=1, inplace=True)\n",
    "print(train_data.shape, test_data.shape)"
   ]
  },
  {
   "cell_type": "code",
   "execution_count": 20,
   "metadata": {
    "colab": {
     "base_uri": "https://localhost:8080/",
     "height": 34
    },
    "colab_type": "code",
    "id": "tgecLIO-2gZM",
    "outputId": "892cbc25-15c9-47b7-9d4f-5a710f4cd480"
   },
   "outputs": [
    {
     "name": "stdout",
     "output_type": "stream",
     "text": [
      "(6818, 36) (1705, 36)\n"
     ]
    }
   ],
   "source": [
    "X = train_data.drop('Counterfeit_Sales', axis=1)\n",
    "y = train_data['Counterfeit_Sales']\n",
    "print(X.shape, test_data.shape)"
   ]
  },
  {
   "cell_type": "code",
   "execution_count": 0,
   "metadata": {
    "colab": {},
    "colab_type": "code",
    "id": "BzauHZNa2Yx-"
   },
   "outputs": [],
   "source": [
    "X_train, X_test, y_train, y_test = train_test_split(X, y, test_size = 0.3, random_state = 10)"
   ]
  },
  {
   "cell_type": "code",
   "execution_count": 22,
   "metadata": {
    "colab": {
     "base_uri": "https://localhost:8080/",
     "height": 34
    },
    "colab_type": "code",
    "id": "4B10Fg5cpFjE",
    "outputId": "ac8beae2-bf9e-4e2b-df8d-6f25e170caf4"
   },
   "outputs": [
    {
     "name": "stdout",
     "output_type": "stream",
     "text": [
      "MAE for Simple Linear Regression model :  808.4181797772659\n"
     ]
    }
   ],
   "source": [
    "#Simple Linear Regression\n",
    "\n",
    "model1 = LinearRegression()\n",
    "model1.fit(X_train, y_train)\n",
    "pred1 = model1.predict(X_test)\n",
    "error1 = mean_absolute_error(y_test, pred1)\n",
    "print(\"MAE for Simple Linear Regression model : \", error1)"
   ]
  },
  {
   "cell_type": "code",
   "execution_count": 23,
   "metadata": {
    "colab": {
     "base_uri": "https://localhost:8080/",
     "height": 34
    },
    "colab_type": "code",
    "id": "2qmZt1X7qHgk",
    "outputId": "1dab695e-f40e-448d-d6a2-5e2f5b411dfd"
   },
   "outputs": [
    {
     "name": "stdout",
     "output_type": "stream",
     "text": [
      "MAE for RandomForest Regression model :  768.0487781150539\n"
     ]
    }
   ],
   "source": [
    "#Random Forest Regression model with 'mean absolute error' criterion\n",
    "\n",
    "model2 = RandomForestRegressor(n_estimators=500, criterion = 'mae',random_state= 10, n_jobs= 3)\n",
    "model2.fit(X_train, y_train)\n",
    "pred2 = model2.predict(X_test)\n",
    "error2 = mean_absolute_error(y_test, pred2)\n",
    "print(\"MAE for RandomForest Regression model : \", error2)"
   ]
  },
  {
   "cell_type": "code",
   "execution_count": 24,
   "metadata": {
    "colab": {
     "base_uri": "https://localhost:8080/",
     "height": 34
    },
    "colab_type": "code",
    "id": "nPgMGkwsnFWg",
    "outputId": "7120bac6-7352-42e3-f195-cce2b6ab2b85"
   },
   "outputs": [
    {
     "data": {
      "text/plain": [
       "(4772, 36)"
      ]
     },
     "execution_count": 24,
     "metadata": {
      "tags": []
     },
     "output_type": "execute_result"
    }
   ],
   "source": [
    "X_train.shape"
   ]
  },
  {
   "cell_type": "code",
   "execution_count": 25,
   "metadata": {
    "colab": {
     "base_uri": "https://localhost:8080/",
     "height": 34
    },
    "colab_type": "code",
    "id": "Q0uBgpEvnLK1",
    "outputId": "28c391df-9c15-4c12-f758-aa1b9a0fbc0f"
   },
   "outputs": [
    {
     "data": {
      "text/plain": [
       "(2046, 36)"
      ]
     },
     "execution_count": 25,
     "metadata": {
      "tags": []
     },
     "output_type": "execute_result"
    }
   ],
   "source": [
    "X_test.shape"
   ]
  },
  {
   "cell_type": "code",
   "execution_count": 0,
   "metadata": {
    "colab": {},
    "colab_type": "code",
    "id": "VrgRRRaynNPX"
   },
   "outputs": [],
   "source": [
    "X_final = pd.concat([X_train, X_test] , axis=0)\n",
    "y_final = pd.concat([y_train, y_test], axis=0)"
   ]
  },
  {
   "cell_type": "code",
   "execution_count": 27,
   "metadata": {
    "colab": {
     "base_uri": "https://localhost:8080/",
     "height": 34
    },
    "colab_type": "code",
    "id": "T26A92XLnzBA",
    "outputId": "2a274d04-5435-4e4c-b9ca-e3e3feba7e96"
   },
   "outputs": [
    {
     "name": "stdout",
     "output_type": "stream",
     "text": [
      "(6818, 36) (6818,)\n"
     ]
    }
   ],
   "source": [
    "print(X_final.shape, y_final.shape)"
   ]
  },
  {
   "cell_type": "code",
   "execution_count": 0,
   "metadata": {
    "colab": {},
    "colab_type": "code",
    "id": "sBjgiakRkSSy"
   },
   "outputs": [],
   "source": [
    "#Fit the model on the entire dataset\n",
    "model2.fit(X_final, y_final)\n",
    "final_preds = model2.predict(test_data)"
   ]
  },
  {
   "cell_type": "code",
   "execution_count": 0,
   "metadata": {
    "colab": {},
    "colab_type": "code",
    "id": "JHTGpPit8WF5"
   },
   "outputs": [],
   "source": [
    "#Save test predictions to file\n",
    "output = pd.DataFrame({'Id': test_data.index,\n",
    "                       'SalePrice': final_preds})\n",
    "output.to_csv('submission.csv', index=False)"
   ]
  }
 ],
 "metadata": {
  "colab": {
   "collapsed_sections": [],
   "name": "Counterfeit_Sales_Prediction_using_Regression_Techniques.ipynb",
   "provenance": []
  },
  "kernelspec": {
   "display_name": "Python 3",
   "language": "python",
   "name": "python3"
  },
  "language_info": {
   "codemirror_mode": {
    "name": "ipython",
    "version": 3
   },
   "file_extension": ".py",
   "mimetype": "text/x-python",
   "name": "python",
   "nbconvert_exporter": "python",
   "pygments_lexer": "ipython3",
   "version": "3.7.4"
  }
 },
 "nbformat": 4,
 "nbformat_minor": 1
}
